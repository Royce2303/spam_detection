{
  "nbformat": 4,
  "nbformat_minor": 0,
  "metadata": {
    "kernelspec": {
      "display_name": "Python 3",
      "name": "python3"
    },
    "language_info": {
      "codemirror_mode": {
        "name": "ipython",
        "version": 3
      },
      "file_extension": ".py",
      "mimetype": "text/x-python",
      "name": "python",
      "nbconvert_exporter": "python",
      "pygments_lexer": "ipython3",
      "version": "3.7.6"
    },
    "colab": {
      "provenance": [],
      "machine_shape": "hm",
      "gpuType": "T4"
    },
    "accelerator": "GPU"
  },
  "cells": [
    {
      "cell_type": "code",
      "metadata": {
        "id": "UBGPH0VtIyxr"
      },
      "source": [
        "import pandas as pd\n",
        "import re\n",
        "import string\n",
        "import numpy as np\n",
        "from sklearn.feature_extraction.text import ENGLISH_STOP_WORDS"
      ],
      "execution_count": null,
      "outputs": []
    },
    {
      "cell_type": "code",
      "metadata": {
        "id": "wB9EGf7fIyxw"
      },
      "source": [
        "data = pd.read_csv(\"/email_dataset.csv\",encoding = \"'latin'\")"
      ],
      "execution_count": null,
      "outputs": []
    },
    {
      "cell_type": "code",
      "metadata": {
        "id": "zWG8DrwIIyxy",
        "colab": {
          "base_uri": "https://localhost:8080/",
          "height": 206
        },
        "outputId": "7d39cf61-a5fe-4bb9-ae7b-00804ccac672"
      },
      "source": [
        "data.head()"
      ],
      "execution_count": null,
      "outputs": [
        {
          "output_type": "execute_result",
          "data": {
            "text/plain": [
              "                                                text label\n",
              "0               subject christmas tree farm pictures   ham\n",
              "1  subject leadership development pilot sally tim...   ham\n",
              "2  subject key dates impact upcoming sap implemen...   ham\n",
              "3  subject key hr issues going forward year end r...   ham\n",
              "4  subject quasi good morning love go get coffee ...   ham"
            ],
            "text/html": [
              "\n",
              "  <div id=\"df-30819b1a-1097-465a-99cc-7cd301e194c7\" class=\"colab-df-container\">\n",
              "    <div>\n",
              "<style scoped>\n",
              "    .dataframe tbody tr th:only-of-type {\n",
              "        vertical-align: middle;\n",
              "    }\n",
              "\n",
              "    .dataframe tbody tr th {\n",
              "        vertical-align: top;\n",
              "    }\n",
              "\n",
              "    .dataframe thead th {\n",
              "        text-align: right;\n",
              "    }\n",
              "</style>\n",
              "<table border=\"1\" class=\"dataframe\">\n",
              "  <thead>\n",
              "    <tr style=\"text-align: right;\">\n",
              "      <th></th>\n",
              "      <th>text</th>\n",
              "      <th>label</th>\n",
              "    </tr>\n",
              "  </thead>\n",
              "  <tbody>\n",
              "    <tr>\n",
              "      <th>0</th>\n",
              "      <td>subject christmas tree farm pictures</td>\n",
              "      <td>ham</td>\n",
              "    </tr>\n",
              "    <tr>\n",
              "      <th>1</th>\n",
              "      <td>subject leadership development pilot sally tim...</td>\n",
              "      <td>ham</td>\n",
              "    </tr>\n",
              "    <tr>\n",
              "      <th>2</th>\n",
              "      <td>subject key dates impact upcoming sap implemen...</td>\n",
              "      <td>ham</td>\n",
              "    </tr>\n",
              "    <tr>\n",
              "      <th>3</th>\n",
              "      <td>subject key hr issues going forward year end r...</td>\n",
              "      <td>ham</td>\n",
              "    </tr>\n",
              "    <tr>\n",
              "      <th>4</th>\n",
              "      <td>subject quasi good morning love go get coffee ...</td>\n",
              "      <td>ham</td>\n",
              "    </tr>\n",
              "  </tbody>\n",
              "</table>\n",
              "</div>\n",
              "    <div class=\"colab-df-buttons\">\n",
              "\n",
              "  <div class=\"colab-df-container\">\n",
              "    <button class=\"colab-df-convert\" onclick=\"convertToInteractive('df-30819b1a-1097-465a-99cc-7cd301e194c7')\"\n",
              "            title=\"Convert this dataframe to an interactive table.\"\n",
              "            style=\"display:none;\">\n",
              "\n",
              "  <svg xmlns=\"http://www.w3.org/2000/svg\" height=\"24px\" viewBox=\"0 -960 960 960\">\n",
              "    <path d=\"M120-120v-720h720v720H120Zm60-500h600v-160H180v160Zm220 220h160v-160H400v160Zm0 220h160v-160H400v160ZM180-400h160v-160H180v160Zm440 0h160v-160H620v160ZM180-180h160v-160H180v160Zm440 0h160v-160H620v160Z\"/>\n",
              "  </svg>\n",
              "    </button>\n",
              "\n",
              "  <style>\n",
              "    .colab-df-container {\n",
              "      display:flex;\n",
              "      gap: 12px;\n",
              "    }\n",
              "\n",
              "    .colab-df-convert {\n",
              "      background-color: #E8F0FE;\n",
              "      border: none;\n",
              "      border-radius: 50%;\n",
              "      cursor: pointer;\n",
              "      display: none;\n",
              "      fill: #1967D2;\n",
              "      height: 32px;\n",
              "      padding: 0 0 0 0;\n",
              "      width: 32px;\n",
              "    }\n",
              "\n",
              "    .colab-df-convert:hover {\n",
              "      background-color: #E2EBFA;\n",
              "      box-shadow: 0px 1px 2px rgba(60, 64, 67, 0.3), 0px 1px 3px 1px rgba(60, 64, 67, 0.15);\n",
              "      fill: #174EA6;\n",
              "    }\n",
              "\n",
              "    .colab-df-buttons div {\n",
              "      margin-bottom: 4px;\n",
              "    }\n",
              "\n",
              "    [theme=dark] .colab-df-convert {\n",
              "      background-color: #3B4455;\n",
              "      fill: #D2E3FC;\n",
              "    }\n",
              "\n",
              "    [theme=dark] .colab-df-convert:hover {\n",
              "      background-color: #434B5C;\n",
              "      box-shadow: 0px 1px 3px 1px rgba(0, 0, 0, 0.15);\n",
              "      filter: drop-shadow(0px 1px 2px rgba(0, 0, 0, 0.3));\n",
              "      fill: #FFFFFF;\n",
              "    }\n",
              "  </style>\n",
              "\n",
              "    <script>\n",
              "      const buttonEl =\n",
              "        document.querySelector('#df-30819b1a-1097-465a-99cc-7cd301e194c7 button.colab-df-convert');\n",
              "      buttonEl.style.display =\n",
              "        google.colab.kernel.accessAllowed ? 'block' : 'none';\n",
              "\n",
              "      async function convertToInteractive(key) {\n",
              "        const element = document.querySelector('#df-30819b1a-1097-465a-99cc-7cd301e194c7');\n",
              "        const dataTable =\n",
              "          await google.colab.kernel.invokeFunction('convertToInteractive',\n",
              "                                                    [key], {});\n",
              "        if (!dataTable) return;\n",
              "\n",
              "        const docLinkHtml = 'Like what you see? Visit the ' +\n",
              "          '<a target=\"_blank\" href=https://colab.research.google.com/notebooks/data_table.ipynb>data table notebook</a>'\n",
              "          + ' to learn more about interactive tables.';\n",
              "        element.innerHTML = '';\n",
              "        dataTable['output_type'] = 'display_data';\n",
              "        await google.colab.output.renderOutput(dataTable, element);\n",
              "        const docLink = document.createElement('div');\n",
              "        docLink.innerHTML = docLinkHtml;\n",
              "        element.appendChild(docLink);\n",
              "      }\n",
              "    </script>\n",
              "  </div>\n",
              "\n",
              "\n",
              "<div id=\"df-31bc3819-1bf6-4457-bf57-27e6cbba0c85\">\n",
              "  <button class=\"colab-df-quickchart\" onclick=\"quickchart('df-31bc3819-1bf6-4457-bf57-27e6cbba0c85')\"\n",
              "            title=\"Suggest charts.\"\n",
              "            style=\"display:none;\">\n",
              "\n",
              "<svg xmlns=\"http://www.w3.org/2000/svg\" height=\"24px\"viewBox=\"0 0 24 24\"\n",
              "     width=\"24px\">\n",
              "    <g>\n",
              "        <path d=\"M19 3H5c-1.1 0-2 .9-2 2v14c0 1.1.9 2 2 2h14c1.1 0 2-.9 2-2V5c0-1.1-.9-2-2-2zM9 17H7v-7h2v7zm4 0h-2V7h2v10zm4 0h-2v-4h2v4z\"/>\n",
              "    </g>\n",
              "</svg>\n",
              "  </button>\n",
              "\n",
              "<style>\n",
              "  .colab-df-quickchart {\n",
              "    background-color: #E8F0FE;\n",
              "    border: none;\n",
              "    border-radius: 50%;\n",
              "    cursor: pointer;\n",
              "    display: none;\n",
              "    fill: #1967D2;\n",
              "    height: 32px;\n",
              "    padding: 0 0 0 0;\n",
              "    width: 32px;\n",
              "  }\n",
              "\n",
              "  .colab-df-quickchart:hover {\n",
              "    background-color: #E2EBFA;\n",
              "    box-shadow: 0px 1px 2px rgba(60, 64, 67, 0.3), 0px 1px 3px 1px rgba(60, 64, 67, 0.15);\n",
              "    fill: #174EA6;\n",
              "  }\n",
              "\n",
              "  [theme=dark] .colab-df-quickchart {\n",
              "    background-color: #3B4455;\n",
              "    fill: #D2E3FC;\n",
              "  }\n",
              "\n",
              "  [theme=dark] .colab-df-quickchart:hover {\n",
              "    background-color: #434B5C;\n",
              "    box-shadow: 0px 1px 3px 1px rgba(0, 0, 0, 0.15);\n",
              "    filter: drop-shadow(0px 1px 2px rgba(0, 0, 0, 0.3));\n",
              "    fill: #FFFFFF;\n",
              "  }\n",
              "</style>\n",
              "\n",
              "  <script>\n",
              "    async function quickchart(key) {\n",
              "      const charts = await google.colab.kernel.invokeFunction(\n",
              "          'suggestCharts', [key], {});\n",
              "    }\n",
              "    (() => {\n",
              "      let quickchartButtonEl =\n",
              "        document.querySelector('#df-31bc3819-1bf6-4457-bf57-27e6cbba0c85 button');\n",
              "      quickchartButtonEl.style.display =\n",
              "        google.colab.kernel.accessAllowed ? 'block' : 'none';\n",
              "    })();\n",
              "  </script>\n",
              "</div>\n",
              "    </div>\n",
              "  </div>\n"
            ]
          },
          "metadata": {},
          "execution_count": 3
        }
      ]
    },
    {
      "cell_type": "code",
      "metadata": {
        "id": "XDo-2eunIyx2"
      },
      "source": [
        "data[\"text\"] = data.text\n",
        "data[\"label\"] = data.label"
      ],
      "execution_count": null,
      "outputs": []
    },
    {
      "cell_type": "code",
      "source": [
        "# Randomize the dataset\n",
        "data = data.sample(frac=1, random_state=42)"
      ],
      "metadata": {
        "id": "llN170l6EYe1"
      },
      "execution_count": null,
      "outputs": []
    },
    {
      "cell_type": "code",
      "source": [
        "data.head()"
      ],
      "metadata": {
        "id": "T7yRt3aXEbzh",
        "outputId": "07374498-e455-4157-ce8d-177c82589e13",
        "colab": {
          "base_uri": "https://localhost:8080/",
          "height": 206
        }
      },
      "execution_count": null,
      "outputs": [
        {
          "output_type": "execute_result",
          "data": {
            "text/plain": [
              "                                                    text label\n",
              "13235  subject buy cheap viagra us hi new offer buy c...  spam\n",
              "3595   subject plant outage affecting meter 8291 enro...   ham\n",
              "5553   subject schedule crawler mailing list please r...   ham\n",
              "10084  subject start date 1 10 02 hourahead hour 15 s...   ham\n",
              "13172  subject free ltci policy comparison software l...  spam"
            ],
            "text/html": [
              "\n",
              "  <div id=\"df-7868530e-072a-40c7-b8db-255fd994ac45\" class=\"colab-df-container\">\n",
              "    <div>\n",
              "<style scoped>\n",
              "    .dataframe tbody tr th:only-of-type {\n",
              "        vertical-align: middle;\n",
              "    }\n",
              "\n",
              "    .dataframe tbody tr th {\n",
              "        vertical-align: top;\n",
              "    }\n",
              "\n",
              "    .dataframe thead th {\n",
              "        text-align: right;\n",
              "    }\n",
              "</style>\n",
              "<table border=\"1\" class=\"dataframe\">\n",
              "  <thead>\n",
              "    <tr style=\"text-align: right;\">\n",
              "      <th></th>\n",
              "      <th>text</th>\n",
              "      <th>label</th>\n",
              "    </tr>\n",
              "  </thead>\n",
              "  <tbody>\n",
              "    <tr>\n",
              "      <th>13235</th>\n",
              "      <td>subject buy cheap viagra us hi new offer buy c...</td>\n",
              "      <td>spam</td>\n",
              "    </tr>\n",
              "    <tr>\n",
              "      <th>3595</th>\n",
              "      <td>subject plant outage affecting meter 8291 enro...</td>\n",
              "      <td>ham</td>\n",
              "    </tr>\n",
              "    <tr>\n",
              "      <th>5553</th>\n",
              "      <td>subject schedule crawler mailing list please r...</td>\n",
              "      <td>ham</td>\n",
              "    </tr>\n",
              "    <tr>\n",
              "      <th>10084</th>\n",
              "      <td>subject start date 1 10 02 hourahead hour 15 s...</td>\n",
              "      <td>ham</td>\n",
              "    </tr>\n",
              "    <tr>\n",
              "      <th>13172</th>\n",
              "      <td>subject free ltci policy comparison software l...</td>\n",
              "      <td>spam</td>\n",
              "    </tr>\n",
              "  </tbody>\n",
              "</table>\n",
              "</div>\n",
              "    <div class=\"colab-df-buttons\">\n",
              "\n",
              "  <div class=\"colab-df-container\">\n",
              "    <button class=\"colab-df-convert\" onclick=\"convertToInteractive('df-7868530e-072a-40c7-b8db-255fd994ac45')\"\n",
              "            title=\"Convert this dataframe to an interactive table.\"\n",
              "            style=\"display:none;\">\n",
              "\n",
              "  <svg xmlns=\"http://www.w3.org/2000/svg\" height=\"24px\" viewBox=\"0 -960 960 960\">\n",
              "    <path d=\"M120-120v-720h720v720H120Zm60-500h600v-160H180v160Zm220 220h160v-160H400v160Zm0 220h160v-160H400v160ZM180-400h160v-160H180v160Zm440 0h160v-160H620v160ZM180-180h160v-160H180v160Zm440 0h160v-160H620v160Z\"/>\n",
              "  </svg>\n",
              "    </button>\n",
              "\n",
              "  <style>\n",
              "    .colab-df-container {\n",
              "      display:flex;\n",
              "      gap: 12px;\n",
              "    }\n",
              "\n",
              "    .colab-df-convert {\n",
              "      background-color: #E8F0FE;\n",
              "      border: none;\n",
              "      border-radius: 50%;\n",
              "      cursor: pointer;\n",
              "      display: none;\n",
              "      fill: #1967D2;\n",
              "      height: 32px;\n",
              "      padding: 0 0 0 0;\n",
              "      width: 32px;\n",
              "    }\n",
              "\n",
              "    .colab-df-convert:hover {\n",
              "      background-color: #E2EBFA;\n",
              "      box-shadow: 0px 1px 2px rgba(60, 64, 67, 0.3), 0px 1px 3px 1px rgba(60, 64, 67, 0.15);\n",
              "      fill: #174EA6;\n",
              "    }\n",
              "\n",
              "    .colab-df-buttons div {\n",
              "      margin-bottom: 4px;\n",
              "    }\n",
              "\n",
              "    [theme=dark] .colab-df-convert {\n",
              "      background-color: #3B4455;\n",
              "      fill: #D2E3FC;\n",
              "    }\n",
              "\n",
              "    [theme=dark] .colab-df-convert:hover {\n",
              "      background-color: #434B5C;\n",
              "      box-shadow: 0px 1px 3px 1px rgba(0, 0, 0, 0.15);\n",
              "      filter: drop-shadow(0px 1px 2px rgba(0, 0, 0, 0.3));\n",
              "      fill: #FFFFFF;\n",
              "    }\n",
              "  </style>\n",
              "\n",
              "    <script>\n",
              "      const buttonEl =\n",
              "        document.querySelector('#df-7868530e-072a-40c7-b8db-255fd994ac45 button.colab-df-convert');\n",
              "      buttonEl.style.display =\n",
              "        google.colab.kernel.accessAllowed ? 'block' : 'none';\n",
              "\n",
              "      async function convertToInteractive(key) {\n",
              "        const element = document.querySelector('#df-7868530e-072a-40c7-b8db-255fd994ac45');\n",
              "        const dataTable =\n",
              "          await google.colab.kernel.invokeFunction('convertToInteractive',\n",
              "                                                    [key], {});\n",
              "        if (!dataTable) return;\n",
              "\n",
              "        const docLinkHtml = 'Like what you see? Visit the ' +\n",
              "          '<a target=\"_blank\" href=https://colab.research.google.com/notebooks/data_table.ipynb>data table notebook</a>'\n",
              "          + ' to learn more about interactive tables.';\n",
              "        element.innerHTML = '';\n",
              "        dataTable['output_type'] = 'display_data';\n",
              "        await google.colab.output.renderOutput(dataTable, element);\n",
              "        const docLink = document.createElement('div');\n",
              "        docLink.innerHTML = docLinkHtml;\n",
              "        element.appendChild(docLink);\n",
              "      }\n",
              "    </script>\n",
              "  </div>\n",
              "\n",
              "\n",
              "<div id=\"df-6239bea9-c639-43b2-acd4-a51046ae6dc5\">\n",
              "  <button class=\"colab-df-quickchart\" onclick=\"quickchart('df-6239bea9-c639-43b2-acd4-a51046ae6dc5')\"\n",
              "            title=\"Suggest charts.\"\n",
              "            style=\"display:none;\">\n",
              "\n",
              "<svg xmlns=\"http://www.w3.org/2000/svg\" height=\"24px\"viewBox=\"0 0 24 24\"\n",
              "     width=\"24px\">\n",
              "    <g>\n",
              "        <path d=\"M19 3H5c-1.1 0-2 .9-2 2v14c0 1.1.9 2 2 2h14c1.1 0 2-.9 2-2V5c0-1.1-.9-2-2-2zM9 17H7v-7h2v7zm4 0h-2V7h2v10zm4 0h-2v-4h2v4z\"/>\n",
              "    </g>\n",
              "</svg>\n",
              "  </button>\n",
              "\n",
              "<style>\n",
              "  .colab-df-quickchart {\n",
              "    background-color: #E8F0FE;\n",
              "    border: none;\n",
              "    border-radius: 50%;\n",
              "    cursor: pointer;\n",
              "    display: none;\n",
              "    fill: #1967D2;\n",
              "    height: 32px;\n",
              "    padding: 0 0 0 0;\n",
              "    width: 32px;\n",
              "  }\n",
              "\n",
              "  .colab-df-quickchart:hover {\n",
              "    background-color: #E2EBFA;\n",
              "    box-shadow: 0px 1px 2px rgba(60, 64, 67, 0.3), 0px 1px 3px 1px rgba(60, 64, 67, 0.15);\n",
              "    fill: #174EA6;\n",
              "  }\n",
              "\n",
              "  [theme=dark] .colab-df-quickchart {\n",
              "    background-color: #3B4455;\n",
              "    fill: #D2E3FC;\n",
              "  }\n",
              "\n",
              "  [theme=dark] .colab-df-quickchart:hover {\n",
              "    background-color: #434B5C;\n",
              "    box-shadow: 0px 1px 3px 1px rgba(0, 0, 0, 0.15);\n",
              "    filter: drop-shadow(0px 1px 2px rgba(0, 0, 0, 0.3));\n",
              "    fill: #FFFFFF;\n",
              "  }\n",
              "</style>\n",
              "\n",
              "  <script>\n",
              "    async function quickchart(key) {\n",
              "      const charts = await google.colab.kernel.invokeFunction(\n",
              "          'suggestCharts', [key], {});\n",
              "    }\n",
              "    (() => {\n",
              "      let quickchartButtonEl =\n",
              "        document.querySelector('#df-6239bea9-c639-43b2-acd4-a51046ae6dc5 button');\n",
              "      quickchartButtonEl.style.display =\n",
              "        google.colab.kernel.accessAllowed ? 'block' : 'none';\n",
              "    })();\n",
              "  </script>\n",
              "</div>\n",
              "    </div>\n",
              "  </div>\n"
            ]
          },
          "metadata": {},
          "execution_count": 6
        }
      ]
    },
    {
      "cell_type": "markdown",
      "metadata": {
        "id": "sOgIC9vgIyx5"
      },
      "source": [
        "# Splitting data"
      ]
    },
    {
      "cell_type": "code",
      "metadata": {
        "id": "CKqqW3y0Iyx5"
      },
      "source": [
        "from sklearn.model_selection import train_test_split\n",
        "emails_train, emails_test, target_train, target_test = train_test_split(data.text,data.label,test_size = 0.2)"
      ],
      "execution_count": null,
      "outputs": []
    },
    {
      "cell_type": "code",
      "source": [
        "# Split data into train, validation, and test sets\n",
        "train_data, test_data, train_labels, test_labels = train_test_split(data.text, data.label, test_size=0.3, random_state=42)\n",
        "train_data, val_data, train_labels, val_labels = train_test_split(train_data, train_labels, test_size=0.3, random_state=42)"
      ],
      "metadata": {
        "id": "ERQhFgM1o--w"
      },
      "execution_count": null,
      "outputs": []
    },
    {
      "cell_type": "code",
      "metadata": {
        "id": "FhaVY-xSIyx8",
        "colab": {
          "base_uri": "https://localhost:8080/"
        },
        "outputId": "98dc25b9-f251-4819-959d-474da16cd41e"
      },
      "source": [
        "data.info"
      ],
      "execution_count": null,
      "outputs": [
        {
          "output_type": "execute_result",
          "data": {
            "text/plain": [
              "<bound method DataFrame.info of                                                     text label\n",
              "13235  subject buy cheap viagra us hi new offer buy c...  spam\n",
              "3595   subject plant outage affecting meter 8291 enro...   ham\n",
              "5553   subject schedule crawler mailing list please r...   ham\n",
              "10084  subject start date 1 10 02 hourahead hour 15 s...   ham\n",
              "13172  subject free ltci policy comparison software l...  spam\n",
              "...                                                  ...   ...\n",
              "21575  subject online pharmaxz want inexpensive pain ...  spam\n",
              "5390   subject competitive analysis update us terrori...   ham\n",
              "860    subject pathing procedures buybacks path buyba...   ham\n",
              "15795  subject new product cialis soft tabs hi new pr...  spam\n",
              "23654  subject stockalert investors need know get can...  spam\n",
              "\n",
              "[27859 rows x 2 columns]>"
            ]
          },
          "metadata": {},
          "execution_count": 9
        }
      ]
    },
    {
      "cell_type": "code",
      "metadata": {
        "id": "u_7DJm1kIyx-",
        "colab": {
          "base_uri": "https://localhost:8080/"
        },
        "outputId": "1fb77b17-8de5-4dd1-ce1f-592e1f579436"
      },
      "source": [
        "emails_train.shape"
      ],
      "execution_count": null,
      "outputs": [
        {
          "output_type": "execute_result",
          "data": {
            "text/plain": [
              "(22287,)"
            ]
          },
          "metadata": {},
          "execution_count": 10
        }
      ]
    },
    {
      "cell_type": "code",
      "source": [
        "train_data.shape"
      ],
      "metadata": {
        "colab": {
          "base_uri": "https://localhost:8080/"
        },
        "id": "EhYIOY3EqP6D",
        "outputId": "7dd18294-774a-44c8-ff2e-7b158efe4cb7"
      },
      "execution_count": null,
      "outputs": [
        {
          "output_type": "execute_result",
          "data": {
            "text/plain": [
              "(13650,)"
            ]
          },
          "metadata": {},
          "execution_count": 11
        }
      ]
    },
    {
      "cell_type": "markdown",
      "metadata": {
        "id": "W5cfcZhuIyyF"
      },
      "source": [
        "# Preprocessing"
      ]
    },
    {
      "cell_type": "code",
      "metadata": {
        "id": "UVDFx5cIIyyF",
        "colab": {
          "base_uri": "https://localhost:8080/",
          "height": 70
        },
        "outputId": "fcff2a2f-9ad9-49fd-a521-61c22f84a380"
      },
      "source": [
        "def remove_hyperlink(word):\n",
        "    return  re.sub(r\"http\\S+\", \"\", word)\n",
        "\n",
        "def to_lower(word):\n",
        "    result = word.lower()\n",
        "    return result\n",
        "\n",
        "def remove_number(word):\n",
        "    result = re.sub(r'\\d+', '', word)\n",
        "    return result\n",
        "\n",
        "def remove_punctuation(word):\n",
        "    result = word.translate(str.maketrans(dict.fromkeys(string.punctuation)))\n",
        "    return result\n",
        "\n",
        "def remove_whitespace(word):\n",
        "    result = word.strip()\n",
        "    return result\n",
        "\n",
        "def replace_newline(word):\n",
        "    return word.replace('\\n','')\n",
        "\n",
        "def clean_up_pipeline(sentence):\n",
        "    cleaning_utils = [remove_hyperlink,\n",
        "                      replace_newline,\n",
        "                      to_lower,\n",
        "                      remove_number,\n",
        "                      remove_punctuation,remove_whitespace]\n",
        "    for o in cleaning_utils:\n",
        "        sentence = o(sentence)\n",
        "    return sentence\n",
        "\n",
        "x_train = [clean_up_pipeline(o) for o in train_data]\n",
        "x_test = [clean_up_pipeline(o) for o in test_data]\n",
        "x_val = [clean_up_pipeline(o) for o in val_data]\n",
        "x_train[0]"
      ],
      "execution_count": null,
      "outputs": [
        {
          "output_type": "execute_result",
          "data": {
            "text/plain": [
              "'subject enjoy generic viagra cheap prices places charge  charge  quite difference huh amazing erection within several seconds guaranteed go sexual overdrive today vroooom shipped worldwide easy use solution http www wwwbargins biz via oxygen link people dislike adv http www wwwbargins biz html'"
            ],
            "application/vnd.google.colaboratory.intrinsic+json": {
              "type": "string"
            }
          },
          "metadata": {},
          "execution_count": 12
        }
      ]
    },
    {
      "cell_type": "code",
      "metadata": {
        "id": "J6m0KYITIyyI"
      },
      "source": [
        "\n",
        "from sklearn.preprocessing import LabelEncoder\n",
        "le = LabelEncoder()\n",
        "train_y = le.fit_transform(train_labels.values)\n",
        "test_y = le.transform(test_labels.values)\n",
        "val_y = le.transform(val_labels.values)"
      ],
      "execution_count": null,
      "outputs": []
    },
    {
      "cell_type": "code",
      "metadata": {
        "id": "p8nTaChYIyyK",
        "colab": {
          "base_uri": "https://localhost:8080/"
        },
        "outputId": "f3b36f62-3b86-40b5-c71c-cc4e31659e82"
      },
      "source": [
        "train_y\n",
        "test_y\n",
        "val_y"
      ],
      "execution_count": null,
      "outputs": [
        {
          "output_type": "execute_result",
          "data": {
            "text/plain": [
              "array([0, 0, 1, ..., 0, 1, 1])"
            ]
          },
          "metadata": {},
          "execution_count": 14
        }
      ]
    },
    {
      "cell_type": "markdown",
      "metadata": {
        "id": "NQnP3LyeIyyN"
      },
      "source": [
        "# Tokenize"
      ]
    },
    {
      "cell_type": "code",
      "metadata": {
        "id": "hRfyW-pHIyyN"
      },
      "source": [
        "## some config values\n",
        "embed_size = 100 # how big is each word vector\n",
        "max_feature = 50000 # how many unique words to use (i.e num rows in embedding vector)\n",
        "max_len = 2000 # max number of words in a question to use"
      ],
      "execution_count": null,
      "outputs": []
    },
    {
      "cell_type": "code",
      "metadata": {
        "id": "4pU9YkDwIyyQ",
        "colab": {
          "base_uri": "https://localhost:8080/"
        },
        "outputId": "9fcb8418-7599-4a14-b323-88b62f2b6adc"
      },
      "source": [
        "from keras.preprocessing.text import Tokenizer\n",
        "tokenizer = Tokenizer(num_words=max_feature)\n",
        "\n",
        "tokenizer.fit_on_texts(x_train)\n",
        "\n",
        "x_train_features = np.array(tokenizer.texts_to_sequences(x_train))\n",
        "x_test_features = np.array(tokenizer.texts_to_sequences(x_test))\n",
        "x_val_features = np.array(tokenizer.texts_to_sequences(x_val))\n",
        "x_train_features[0]"
      ],
      "execution_count": null,
      "outputs": [
        {
          "output_type": "stream",
          "name": "stderr",
          "text": [
            "<ipython-input-16-49dd7d254750>:6: VisibleDeprecationWarning: Creating an ndarray from ragged nested sequences (which is a list-or-tuple of lists-or-tuples-or ndarrays with different lengths or shapes) is deprecated. If you meant to do this, you must specify 'dtype=object' when creating the ndarray.\n",
            "  x_train_features = np.array(tokenizer.texts_to_sequences(x_train))\n",
            "<ipython-input-16-49dd7d254750>:7: VisibleDeprecationWarning: Creating an ndarray from ragged nested sequences (which is a list-or-tuple of lists-or-tuples-or ndarrays with different lengths or shapes) is deprecated. If you meant to do this, you must specify 'dtype=object' when creating the ndarray.\n",
            "  x_test_features = np.array(tokenizer.texts_to_sequences(x_test))\n",
            "<ipython-input-16-49dd7d254750>:8: VisibleDeprecationWarning: Creating an ndarray from ragged nested sequences (which is a list-or-tuple of lists-or-tuples-or ndarrays with different lengths or shapes) is deprecated. If you meant to do this, you must specify 'dtype=object' when creating the ndarray.\n",
            "  x_val_features = np.array(tokenizer.texts_to_sequences(x_val))\n"
          ]
        },
        {
          "output_type": "execute_result",
          "data": {
            "text/plain": [
              "[2,\n",
              " 1509,\n",
              " 1029,\n",
              " 409,\n",
              " 906,\n",
              " 95,\n",
              " 2477,\n",
              " 614,\n",
              " 614,\n",
              " 2033,\n",
              " 2057,\n",
              " 16202,\n",
              " 2627,\n",
              " 4593,\n",
              " 59,\n",
              " 401,\n",
              " 3129,\n",
              " 962,\n",
              " 72,\n",
              " 1512,\n",
              " 20106,\n",
              " 68,\n",
              " 20107,\n",
              " 2160,\n",
              " 659,\n",
              " 513,\n",
              " 81,\n",
              " 1133,\n",
              " 17,\n",
              " 39,\n",
              " 26995,\n",
              " 1013,\n",
              " 528,\n",
              " 9988,\n",
              " 272,\n",
              " 99,\n",
              " 7678,\n",
              " 8770,\n",
              " 17,\n",
              " 39,\n",
              " 26995,\n",
              " 1013,\n",
              " 524]"
            ]
          },
          "metadata": {},
          "execution_count": 16
        }
      ]
    },
    {
      "cell_type": "markdown",
      "metadata": {
        "id": "wYBAvFS-IyyT"
      },
      "source": [
        "# Padding"
      ]
    },
    {
      "cell_type": "code",
      "metadata": {
        "id": "J9qrzRgtIyyU",
        "colab": {
          "base_uri": "https://localhost:8080/"
        },
        "outputId": "1fe72f10-67f0-4b1f-f53a-6c6beb90cd1e"
      },
      "source": [
        "from tensorflow.keras.preprocessing.sequence import pad_sequences\n",
        "x_train_features = pad_sequences(x_train_features,maxlen=max_len)\n",
        "x_test_features = pad_sequences(x_test_features,maxlen=max_len)\n",
        "x_val_features = pad_sequences(x_val_features,maxlen=max_len)\n",
        "x_train_features[0]"
      ],
      "execution_count": null,
      "outputs": [
        {
          "output_type": "execute_result",
          "data": {
            "text/plain": [
              "array([    0,     0,     0, ..., 26995,  1013,   524], dtype=int32)"
            ]
          },
          "metadata": {},
          "execution_count": 17
        }
      ]
    },
    {
      "cell_type": "code",
      "source": [
        "train_y1 = train_y.reshape(-1, 1)\n",
        "test_y1 = test_y.reshape(-1, 1)\n",
        "val_y1 = val_y.reshape(-1, 1)"
      ],
      "metadata": {
        "id": "opuMVi_7H47p"
      },
      "execution_count": null,
      "outputs": []
    },
    {
      "cell_type": "markdown",
      "metadata": {
        "id": "cNJGhByLIyyZ"
      },
      "source": [
        "# Model"
      ]
    },
    {
      "cell_type": "code",
      "metadata": {
        "id": "2ppV2YhHIyyZ"
      },
      "source": [
        "from keras.layers import Dense, Input, LSTM, Embedding, Dropout, Activation\n",
        "from keras.layers import Bidirectional\n",
        "from keras.models import Model"
      ],
      "execution_count": null,
      "outputs": []
    },
    {
      "cell_type": "code",
      "source": [
        "import tensorflow as tf\n",
        "from keras.layers import BatchNormalization\n",
        "# Custom Bidirectional LSTM\n",
        "class CustomBidirectionalLSTM(tf.keras.layers.Layer):\n",
        "    def __init__(self, units, return_sequences=True):\n",
        "        super(CustomBidirectionalLSTM, self).__init__()\n",
        "        self.units = units\n",
        "        self.return_sequences = return_sequences\n",
        "\n",
        "    def build(self, input_shape):\n",
        "        self.lstm_fw = tf.keras.layers.LSTM(self.units, return_sequences=self.return_sequences)\n",
        "        self.lstm_bw = tf.keras.layers.LSTM(self.units, return_sequences=self.return_sequences, go_backwards=True)\n",
        "        self.concat_layer = tf.keras.layers.Concatenate(axis=-1)\n",
        "\n",
        "    def call(self, inputs):\n",
        "        lstm_fw_out = self.lstm_fw(inputs)\n",
        "        lstm_bw_out = self.lstm_bw(inputs)\n",
        "        output = self.concat_layer([lstm_fw_out, lstm_bw_out])\n",
        "        return output\n"
      ],
      "metadata": {
        "id": "sFQ-yt5PHN-v"
      },
      "execution_count": null,
      "outputs": []
    },
    {
      "cell_type": "code",
      "source": [
        "pip install nlpaug"
      ],
      "metadata": {
        "colab": {
          "base_uri": "https://localhost:8080/"
        },
        "id": "CnA3yCn0gH-8",
        "outputId": "b9de47f7-80b8-475c-d854-f7f4c2469dba"
      },
      "execution_count": null,
      "outputs": [
        {
          "output_type": "stream",
          "name": "stdout",
          "text": [
            "Collecting nlpaug\n",
            "  Downloading nlpaug-1.1.11-py3-none-any.whl (410 kB)\n",
            "\u001b[?25l     \u001b[90m━━━━━━━━━━━━━━━━━━━━━━━━━━━━━━━━━━━━━━━━\u001b[0m \u001b[32m0.0/410.5 kB\u001b[0m \u001b[31m?\u001b[0m eta \u001b[36m-:--:--\u001b[0m\r\u001b[2K     \u001b[91m━━━━━━━━━━\u001b[0m\u001b[91m╸\u001b[0m\u001b[90m━━━━━━━━━━━━━━━━━━━━━━━━━━━━\u001b[0m \u001b[32m112.6/410.5 kB\u001b[0m \u001b[31m3.3 MB/s\u001b[0m eta \u001b[36m0:00:01\u001b[0m\r\u001b[2K     \u001b[90m━━━━━━━━━━━━━━━━━━━━━━━━━━━━━━━━━━━━━━━\u001b[0m \u001b[32m410.5/410.5 kB\u001b[0m \u001b[31m7.6 MB/s\u001b[0m eta \u001b[36m0:00:00\u001b[0m\n",
            "\u001b[?25hRequirement already satisfied: numpy>=1.16.2 in /usr/local/lib/python3.10/dist-packages (from nlpaug) (1.23.5)\n",
            "Requirement already satisfied: pandas>=1.2.0 in /usr/local/lib/python3.10/dist-packages (from nlpaug) (1.5.3)\n",
            "Requirement already satisfied: requests>=2.22.0 in /usr/local/lib/python3.10/dist-packages (from nlpaug) (2.31.0)\n",
            "Requirement already satisfied: gdown>=4.0.0 in /usr/local/lib/python3.10/dist-packages (from nlpaug) (4.6.6)\n",
            "Requirement already satisfied: filelock in /usr/local/lib/python3.10/dist-packages (from gdown>=4.0.0->nlpaug) (3.12.2)\n",
            "Requirement already satisfied: six in /usr/local/lib/python3.10/dist-packages (from gdown>=4.0.0->nlpaug) (1.16.0)\n",
            "Requirement already satisfied: tqdm in /usr/local/lib/python3.10/dist-packages (from gdown>=4.0.0->nlpaug) (4.66.1)\n",
            "Requirement already satisfied: beautifulsoup4 in /usr/local/lib/python3.10/dist-packages (from gdown>=4.0.0->nlpaug) (4.11.2)\n",
            "Requirement already satisfied: python-dateutil>=2.8.1 in /usr/local/lib/python3.10/dist-packages (from pandas>=1.2.0->nlpaug) (2.8.2)\n",
            "Requirement already satisfied: pytz>=2020.1 in /usr/local/lib/python3.10/dist-packages (from pandas>=1.2.0->nlpaug) (2023.3)\n",
            "Requirement already satisfied: charset-normalizer<4,>=2 in /usr/local/lib/python3.10/dist-packages (from requests>=2.22.0->nlpaug) (3.2.0)\n",
            "Requirement already satisfied: idna<4,>=2.5 in /usr/local/lib/python3.10/dist-packages (from requests>=2.22.0->nlpaug) (3.4)\n",
            "Requirement already satisfied: urllib3<3,>=1.21.1 in /usr/local/lib/python3.10/dist-packages (from requests>=2.22.0->nlpaug) (2.0.4)\n",
            "Requirement already satisfied: certifi>=2017.4.17 in /usr/local/lib/python3.10/dist-packages (from requests>=2.22.0->nlpaug) (2023.7.22)\n",
            "Requirement already satisfied: soupsieve>1.2 in /usr/local/lib/python3.10/dist-packages (from beautifulsoup4->gdown>=4.0.0->nlpaug) (2.4.1)\n",
            "Requirement already satisfied: PySocks!=1.5.7,>=1.5.6 in /usr/local/lib/python3.10/dist-packages (from requests>=2.22.0->nlpaug) (1.7.1)\n",
            "Installing collected packages: nlpaug\n",
            "Successfully installed nlpaug-1.1.11\n"
          ]
        }
      ]
    },
    {
      "cell_type": "code",
      "source": [
        "import nlpaug.augmenter.word as naw\n",
        "import tensorflow as tf\n",
        "# Function to apply text augmentation using synonym replacement\n",
        "def augment_text(sentence, aug_p=0.2):\n",
        "    aug = naw.SynonymAug(aug_p=aug_p)\n",
        "    augmented_text = aug.augment(sentence)\n",
        "    return augmented_text\n",
        "\n",
        "# Augment the training data with text variations\n",
        "augmented_x_train = [augment_text(sentence) for sentence in x_train]\n",
        "\n",
        "# Print the length of the original training data\n",
        "print(\"Original training data length:\", len(x_train))\n",
        "\n",
        "# Print the length of the augmented training data\n",
        "print(\"Augmented training data length:\", len(augmented_x_train))\n",
        "\n",
        "# Combine original and augmented data\n",
        "x_train_combined = x_train + augmented_x_train\n",
        "train_y_combined = np.concatenate((train_y1, train_y1))\n",
        "\n",
        "# Print the length of the combined training data\n",
        "print(\"Combined training data length:\", len(x_train_combined))\n",
        "\n",
        "# Tokenize the combined data\n",
        "x_train_combined_seq = tokenizer.texts_to_sequences(x_train_combined)\n",
        "\n",
        "# Pad the sequences\n",
        "x_train_combined_padded = pad_sequences(x_train_combined_seq, maxlen=max_len)\n",
        "\n",
        "# Build the model with data augmentation\n",
        "model1 = tf.keras.Sequential()\n",
        "model1.add(tf.keras.layers.Embedding(max_feature, embed_size, input_length=max_len))\n",
        "model1.add(CustomBidirectionalLSTM(32))\n",
        "model1.add(BatchNormalization())\n",
        "model1.add(tf.keras.layers.Dense(8, activation='relu'))\n",
        "model1.add(tf.keras.layers.Dropout(0.4))\n",
        "model1.add(tf.keras.layers.Dense(1, activation='sigmoid'))\n",
        "\n",
        "model1.compile(loss='binary_crossentropy', optimizer='adam', metrics=['accuracy'])\n",
        "print(model1.summary())"
      ],
      "metadata": {
        "colab": {
          "base_uri": "https://localhost:8080/"
        },
        "id": "Tyj2i7LHgH2Z",
        "outputId": "657c3b74-ea51-4e56-b163-a4d5727747f3"
      },
      "execution_count": null,
      "outputs": [
        {
          "output_type": "stream",
          "name": "stdout",
          "text": [
            "Original training data length: 13650\n",
            "Augmented training data length: 13650\n",
            "Combined training data length: 27300\n",
            "Model: \"sequential_1\"\n",
            "_________________________________________________________________\n",
            " Layer (type)                Output Shape              Param #   \n",
            "=================================================================\n",
            " embedding_1 (Embedding)     (None, 2000, 100)         5000000   \n",
            "                                                                 \n",
            " custom_bidirectional_lstm_1  (None, 2000, 64)         34048     \n",
            "  (CustomBidirectionalLSTM)                                      \n",
            "                                                                 \n",
            " batch_normalization_1 (Batc  (None, 2000, 64)         256       \n",
            " hNormalization)                                                 \n",
            "                                                                 \n",
            " dense_2 (Dense)             (None, 2000, 8)           520       \n",
            "                                                                 \n",
            " dropout_1 (Dropout)         (None, 2000, 8)           0         \n",
            "                                                                 \n",
            " dense_3 (Dense)             (None, 2000, 1)           9         \n",
            "                                                                 \n",
            "=================================================================\n",
            "Total params: 5,034,833\n",
            "Trainable params: 5,034,705\n",
            "Non-trainable params: 128\n",
            "_________________________________________________________________\n",
            "None\n"
          ]
        }
      ]
    },
    {
      "cell_type": "code",
      "source": [
        "import matplotlib.pyplot as plt\n",
        "import time\n",
        "from keras.callbacks import Callback\n",
        "\n",
        "# Custom callback to record training times after each epoch\n",
        "class TrainingTimeCallback(Callback):\n",
        "    def on_epoch_begin(self, epoch, logs=None):\n",
        "        self.start_time = time.time()\n",
        "\n",
        "    def on_epoch_end(self, epoch, logs=None):\n",
        "        elapsed_time = time.time() - self.start_time\n",
        "        self.training_times.append(elapsed_time)\n",
        "        print(f\"Epoch {epoch + 1} - Training time: {elapsed_time:.2f} seconds\")\n",
        "\n",
        "    def on_train_begin(self, logs=None):\n",
        "        self.training_times = []\n",
        "\n",
        "# Create an instance of the custom callback\n",
        "training_time_callback = TrainingTimeCallback()\n",
        "# Train the model with augmented data using the custom callback\n",
        "history1 = model1.fit(x_train_combined_padded,\n",
        "                      train_y_combined,\n",
        "                      batch_size=512,\n",
        "                      epochs=20,\n",
        "                      validation_data=(x_val_features, val_y1),\n",
        "                      callbacks=[training_time_callback])\n",
        "\n",
        "# Plot the training times after each epoch as a line plot\n",
        "plt.figure(figsize=(8, 6))\n",
        "plt.plot(range(1, 21), training_time_callback.training_times, marker='o')\n",
        "plt.xlabel('Epoch')\n",
        "plt.ylabel('Time (seconds)')\n",
        "plt.title('Training Time per Epoch')\n",
        "plt.grid(True)\n",
        "plt.show()"
      ],
      "metadata": {
        "colab": {
          "base_uri": "https://localhost:8080/",
          "height": 1000
        },
        "id": "cJm0O8NngHck",
        "outputId": "f1391ae5-bd55-443a-826d-0e489700142e"
      },
      "execution_count": null,
      "outputs": [
        {
          "output_type": "stream",
          "name": "stdout",
          "text": [
            "Epoch 1/20\n",
            "54/54 [==============================] - ETA: 0s - loss: 0.3571 - accuracy: 0.7664Epoch 1 - Training time: 18.86 seconds\n",
            "54/54 [==============================] - 19s 348ms/step - loss: 0.3571 - accuracy: 0.7664 - val_loss: 0.0559 - val_accuracy: 0.9851\n",
            "Epoch 2/20\n",
            "54/54 [==============================] - ETA: 0s - loss: 0.3568 - accuracy: 0.7665Epoch 2 - Training time: 19.58 seconds\n",
            "54/54 [==============================] - 20s 361ms/step - loss: 0.3568 - accuracy: 0.7665 - val_loss: 0.0621 - val_accuracy: 0.9843\n",
            "Epoch 3/20\n",
            "54/54 [==============================] - ETA: 0s - loss: 0.3568 - accuracy: 0.7661Epoch 3 - Training time: 18.22 seconds\n",
            "54/54 [==============================] - 18s 336ms/step - loss: 0.3568 - accuracy: 0.7661 - val_loss: 0.0604 - val_accuracy: 0.9852\n",
            "Epoch 4/20\n",
            "54/54 [==============================] - ETA: 0s - loss: 0.3566 - accuracy: 0.7665Epoch 4 - Training time: 18.59 seconds\n",
            "54/54 [==============================] - 19s 346ms/step - loss: 0.3566 - accuracy: 0.7665 - val_loss: 0.0630 - val_accuracy: 0.9847\n",
            "Epoch 5/20\n",
            "54/54 [==============================] - ETA: 0s - loss: 0.3564 - accuracy: 0.7663Epoch 5 - Training time: 18.24 seconds\n",
            "54/54 [==============================] - 18s 339ms/step - loss: 0.3564 - accuracy: 0.7663 - val_loss: 0.0661 - val_accuracy: 0.9851\n",
            "Epoch 6/20\n",
            "54/54 [==============================] - ETA: 0s - loss: 0.3563 - accuracy: 0.7667Epoch 6 - Training time: 18.63 seconds\n",
            "54/54 [==============================] - 19s 346ms/step - loss: 0.3563 - accuracy: 0.7667 - val_loss: 0.0683 - val_accuracy: 0.9852\n",
            "Epoch 7/20\n",
            "54/54 [==============================] - ETA: 0s - loss: 0.3563 - accuracy: 0.7665Epoch 7 - Training time: 19.16 seconds\n",
            "54/54 [==============================] - 19s 353ms/step - loss: 0.3563 - accuracy: 0.7665 - val_loss: 0.0700 - val_accuracy: 0.9837\n",
            "Epoch 8/20\n",
            "54/54 [==============================] - ETA: 0s - loss: 0.3565 - accuracy: 0.7661Epoch 8 - Training time: 18.88 seconds\n",
            "54/54 [==============================] - 19s 349ms/step - loss: 0.3565 - accuracy: 0.7661 - val_loss: 0.0686 - val_accuracy: 0.9843\n",
            "Epoch 9/20\n",
            "54/54 [==============================] - ETA: 0s - loss: 0.3568 - accuracy: 0.7658Epoch 9 - Training time: 18.51 seconds\n",
            "54/54 [==============================] - 19s 342ms/step - loss: 0.3568 - accuracy: 0.7658 - val_loss: 0.0614 - val_accuracy: 0.9846\n",
            "Epoch 10/20\n",
            "54/54 [==============================] - ETA: 0s - loss: 0.3563 - accuracy: 0.7665Epoch 10 - Training time: 18.40 seconds\n",
            "54/54 [==============================] - 18s 342ms/step - loss: 0.3563 - accuracy: 0.7665 - val_loss: 0.0697 - val_accuracy: 0.9851\n",
            "Epoch 11/20\n",
            "54/54 [==============================] - ETA: 0s - loss: 0.3563 - accuracy: 0.7665Epoch 11 - Training time: 18.42 seconds\n",
            "54/54 [==============================] - 18s 342ms/step - loss: 0.3563 - accuracy: 0.7665 - val_loss: 0.0737 - val_accuracy: 0.9855\n",
            "Epoch 12/20\n",
            "54/54 [==============================] - ETA: 0s - loss: 0.3561 - accuracy: 0.7665Epoch 12 - Training time: 18.40 seconds\n",
            "54/54 [==============================] - 18s 340ms/step - loss: 0.3561 - accuracy: 0.7665 - val_loss: 0.0758 - val_accuracy: 0.9851\n",
            "Epoch 13/20\n",
            "54/54 [==============================] - ETA: 0s - loss: 0.3561 - accuracy: 0.7665Epoch 13 - Training time: 18.39 seconds\n",
            "54/54 [==============================] - 18s 340ms/step - loss: 0.3561 - accuracy: 0.7665 - val_loss: 0.0782 - val_accuracy: 0.9847\n",
            "Epoch 14/20\n",
            "54/54 [==============================] - ETA: 0s - loss: 0.3560 - accuracy: 0.7665Epoch 14 - Training time: 17.70 seconds\n",
            "54/54 [==============================] - 18s 329ms/step - loss: 0.3560 - accuracy: 0.7665 - val_loss: 0.0793 - val_accuracy: 0.9859\n",
            "Epoch 15/20\n",
            "54/54 [==============================] - ETA: 0s - loss: 0.3561 - accuracy: 0.7665Epoch 15 - Training time: 18.74 seconds\n",
            "54/54 [==============================] - 19s 348ms/step - loss: 0.3561 - accuracy: 0.7665 - val_loss: 0.0681 - val_accuracy: 0.9854\n",
            "Epoch 16/20\n",
            "54/54 [==============================] - ETA: 0s - loss: 0.3560 - accuracy: 0.7666Epoch 16 - Training time: 18.48 seconds\n",
            "54/54 [==============================] - 18s 340ms/step - loss: 0.3560 - accuracy: 0.7666 - val_loss: 0.0743 - val_accuracy: 0.9855\n",
            "Epoch 17/20\n",
            "54/54 [==============================] - ETA: 0s - loss: 0.3559 - accuracy: 0.7665Epoch 17 - Training time: 18.42 seconds\n",
            "54/54 [==============================] - 18s 342ms/step - loss: 0.3559 - accuracy: 0.7665 - val_loss: 0.0796 - val_accuracy: 0.9852\n",
            "Epoch 18/20\n",
            "54/54 [==============================] - ETA: 0s - loss: 0.3560 - accuracy: 0.7663Epoch 18 - Training time: 18.38 seconds\n",
            "54/54 [==============================] - 18s 340ms/step - loss: 0.3560 - accuracy: 0.7663 - val_loss: 0.0800 - val_accuracy: 0.9863\n",
            "Epoch 19/20\n",
            "54/54 [==============================] - ETA: 0s - loss: 0.3558 - accuracy: 0.7666Epoch 19 - Training time: 18.65 seconds\n",
            "54/54 [==============================] - 19s 345ms/step - loss: 0.3558 - accuracy: 0.7666 - val_loss: 0.0832 - val_accuracy: 0.9858\n",
            "Epoch 20/20\n",
            "54/54 [==============================] - ETA: 0s - loss: 0.3558 - accuracy: 0.7666Epoch 20 - Training time: 18.03 seconds\n",
            "54/54 [==============================] - 18s 335ms/step - loss: 0.3558 - accuracy: 0.7666 - val_loss: 0.0825 - val_accuracy: 0.9853\n"
          ]
        },
        {
          "output_type": "display_data",
          "data": {
            "text/plain": [
              "<Figure size 800x600 with 1 Axes>"
            ],
            "image/png": "[encoded data removed]"
          },
          "metadata": {}
        }
      ]
    },
    {
      "cell_type": "code",
      "source": [
        "# Evaluate the model on the test data\n",
        "test_loss, test_accuracy = model1.evaluate(x_test_features, test_y1)\n",
        "print(\"Test Loss:\", test_loss)\n",
        "print(\"Test Accuracy:\", test_accuracy)"
      ],
      "metadata": {
        "id": "mQVLZwXMrild",
        "colab": {
          "base_uri": "https://localhost:8080/"
        },
        "outputId": "a98a6336-b403-4e4e-f0e9-7f31e74ba6ea"
      },
      "execution_count": null,
      "outputs": [
        {
          "output_type": "stream",
          "name": "stdout",
          "text": [
            "262/262 [==============================] - 11s 37ms/step - loss: 0.6933 - accuracy: 0.4448\n",
            "Test Loss: 0.6932608485221863\n",
            "Test Accuracy: 0.44476351141929626\n"
          ]
        }
      ]
    },
    {
      "cell_type": "code",
      "source": [
        "def calculate_confusion_matrix(actual, predicted):\n",
        "    tp = 0\n",
        "    tn = 0\n",
        "    fp = 0\n",
        "    fn = 0\n",
        "\n",
        "    for a, p in zip(actual, predicted):\n",
        "        if a == 1 and p == 1:\n",
        "            tp += 1\n",
        "        elif a == 0 and p == 0:\n",
        "            tn += 1\n",
        "        elif a == 0 and p == 1:\n",
        "            fp += 1\n",
        "        elif a == 1 and p == 0:\n",
        "            fn += 1\n",
        "\n",
        "    confusion_matrix = [[tp, fp], [fn, tn]]\n",
        "    return confusion_matrix\n",
        "\n",
        "# Make predictions using the trained model\n",
        "test_predictions = model1.predict(x_test_features)\n",
        "test_predictions = (test_predictions > 0.5).astype(int)  # Convert probabilities to binary predictions\n",
        "\n",
        "# Convert the predictions to a 1D array\n",
        "test_predictions_flattened = test_predictions.flatten()\n",
        "\n",
        "# Convert the actual labels to a 1D array\n",
        "test_y1_flattened = test_y1.flatten()\n",
        "# Calculate confusion matrix\n",
        "confusion_mat = calculate_confusion_matrix(test_y1_flattened, test_predictions_flattened)\n",
        "\n",
        "print(\"Confusion Matrix:\")\n",
        "for row in confusion_mat:\n",
        "    print(row)\n"
      ],
      "metadata": {
        "id": "TgTfh0qAAKQ1",
        "colab": {
          "base_uri": "https://localhost:8080/"
        },
        "outputId": "ffbed88c-5025-4d98-c56f-10df2c0d332f"
      },
      "execution_count": null,
      "outputs": [
        {
          "output_type": "stream",
          "name": "stdout",
          "text": [
            "262/262 [==============================] - 10s 36ms/step\n",
            "Confusion Matrix:\n",
            "[253, 180]\n",
            "[4444, 3481]\n"
          ]
        }
      ]
    },
    {
      "cell_type": "code",
      "source": [
        "# Extract values from the confusion matrix\n",
        "tp, fp = confusion_mat[0]\n",
        "fn, tn = confusion_mat[1]\n",
        "\n",
        "# Calculate recall, precision, and F1-score\n",
        "recall = tp / (tp + fn)\n",
        "precision = tp / (tp + fp)\n",
        "f1_score = 2 * (precision * recall) / (precision + recall)\n",
        "\n",
        "print(\"Recall:\", recall)\n",
        "print(\"Precision:\", precision)\n",
        "print(\"F1-Score:\", f1_score)\n",
        "\n",
        "# Calculate True Positive Rate (Recall)\n",
        "tpr = tp / (tp + fn)\n",
        "\n",
        "# Calculate False Positive Rate\n",
        "fpr = fp / (fp + tn)\n",
        "\n",
        "print(\"True Positive Rate (Recall):\", tpr)\n",
        "print(\"False Positive Rate:\", fpr)\n"
      ],
      "metadata": {
        "colab": {
          "base_uri": "https://localhost:8080/"
        },
        "id": "TvCLVLoMmcJJ",
        "outputId": "ad156e38-69bf-4bef-beb8-4a806e7bfe00"
      },
      "execution_count": null,
      "outputs": [
        {
          "output_type": "stream",
          "name": "stdout",
          "text": [
            "Recall: 0.026825633383010434\n",
            "Precision: 0.5727272727272728\n",
            "F1-Score: 0.051250762660158634\n",
            "True Positive Rate (Recall): 0.026825633383010434\n",
            "False Positive Rate: 0.025676044796503688\n"
          ]
        }
      ]
    },
    {
      "cell_type": "code",
      "source": [
        "# Custom Bidirectional RNN\n",
        "class CustomBidirectionalRNN(tf.keras.layers.Layer):\n",
        "    def __init__(self, units, return_sequences=True):\n",
        "        super(CustomBidirectionalRNN, self).__init__()\n",
        "        self.units = units\n",
        "        self.return_sequences = return_sequences\n",
        "\n",
        "    def build(self, input_shape):\n",
        "        self.rnn_fw = tf.keras.layers.SimpleRNN(self.units, return_sequences=self.return_sequences)\n",
        "        self.rnn_bw = tf.keras.layers.SimpleRNN(self.units, return_sequences=self.return_sequences, go_backwards=True)\n",
        "        self.concat_layer = tf.keras.layers.Concatenate(axis=-1)\n",
        "\n",
        "    def call(self, inputs):\n",
        "        rnn_fw_out = self.rnn_fw(inputs)\n",
        "        rnn_bw_out = self.rnn_bw(inputs)\n",
        "        output = self.concat_layer([rnn_fw_out, rnn_bw_out])\n",
        "        return output\n",
        "\n",
        "# Build the model\n",
        "model2 = tf.keras.Sequential()\n",
        "model2.add(tf.keras.layers.Embedding(max_feature, embed_size, input_length=max_len))\n",
        "model2.add(CustomBidirectionalRNN(32))\n",
        "model2.add(BatchNormalization())\n",
        "model2.add(tf.keras.layers.Dense(8, activation='relu'))\n",
        "model2.add(tf.keras.layers.Dropout(0.4))\n",
        "model2.add(tf.keras.layers.Dense(1, activation='sigmoid'))\n",
        "\n",
        "model2.compile(loss='binary_crossentropy', optimizer='adam', metrics=['accuracy'])\n",
        "print(model2.summary())\n",
        "\n"
      ],
      "metadata": {
        "colab": {
          "base_uri": "https://localhost:8080/"
        },
        "id": "TEOl_KtJRK5P",
        "outputId": "f5dcf15e-f524-462b-da92-9ecc7c53dc59"
      },
      "execution_count": null,
      "outputs": [
        {
          "output_type": "stream",
          "name": "stdout",
          "text": [
            "Model: \"sequential_2\"\n",
            "_________________________________________________________________\n",
            " Layer (type)                Output Shape              Param #   \n",
            "=================================================================\n",
            " embedding_2 (Embedding)     (None, 2000, 100)         5000000   \n",
            "                                                                 \n",
            " custom_bidirectional_rnn (C  (None, 2000, 64)         8512      \n",
            " ustomBidirectionalRNN)                                          \n",
            "                                                                 \n",
            " batch_normalization_2 (Batc  (None, 2000, 64)         256       \n",
            " hNormalization)                                                 \n",
            "                                                                 \n",
            " dense_4 (Dense)             (None, 2000, 8)           520       \n",
            "                                                                 \n",
            " dropout_2 (Dropout)         (None, 2000, 8)           0         \n",
            "                                                                 \n",
            " dense_5 (Dense)             (None, 2000, 1)           9         \n",
            "                                                                 \n",
            "=================================================================\n",
            "Total params: 5,009,297\n",
            "Trainable params: 5,009,169\n",
            "Non-trainable params: 128\n",
            "_________________________________________________________________\n",
            "None\n"
          ]
        }
      ]
    },
    {
      "cell_type": "code",
      "source": [
        "import time\n",
        "from keras.callbacks import Callback\n",
        "\n",
        "# Custom callback to record training times after each epoch\n",
        "class TrainingTimeCallback(Callback):\n",
        "    def on_epoch_begin(self, epoch, logs=None):\n",
        "        self.start_time = time.time()\n",
        "\n",
        "    def on_epoch_end(self, epoch, logs=None):\n",
        "        elapsed_time = time.time() - self.start_time\n",
        "        self.training_times.append(elapsed_time)\n",
        "        print(f\"Epoch {epoch + 1} - Training time: {elapsed_time:.2f} seconds\")\n",
        "\n",
        "    def on_train_begin(self, logs=None):\n",
        "        self.training_times = []\n",
        "\n",
        "# Create an instance of the custom callback\n",
        "training_time_callback = TrainingTimeCallback()\n",
        "# Train the model with augmented data\n",
        "history2 = model2.fit(x_train_combined_padded,\n",
        "                      train_y_combined,\n",
        "                      batch_size=512,\n",
        "                      epochs=20,\n",
        "                      validation_data=(x_val_features, val_y1),callbacks=[training_time_callback])\n",
        "\n",
        "# Plot the training times after each epoch as a line plot\n",
        "plt.figure(figsize=(8, 6))\n",
        "plt.plot(range(1, 21), training_time_callback.training_times, marker='o')\n",
        "plt.xlabel('Epoch')\n",
        "plt.ylabel('Time (seconds)')\n",
        "plt.title('Training Time per Epoch')\n",
        "plt.grid(True)\n",
        "plt.show()"
      ],
      "metadata": {
        "colab": {
          "base_uri": "https://localhost:8080/",
          "height": 1000
        },
        "id": "beytophURLzz",
        "outputId": "f4fe7183-da74-4ca5-9fad-442368fa0325"
      },
      "execution_count": null,
      "outputs": [
        {
          "output_type": "stream",
          "name": "stdout",
          "text": [
            "Epoch 1/20\n",
            "54/54 [==============================] - ETA: 0s - loss: 0.6920 - accuracy: 0.5491Epoch 1 - Training time: 188.11 seconds\n",
            "54/54 [==============================] - 188s 3s/step - loss: 0.6920 - accuracy: 0.5491 - val_loss: 0.6812 - val_accuracy: 0.5707\n",
            "Epoch 2/20\n",
            "54/54 [==============================] - ETA: 0s - loss: 0.6643 - accuracy: 0.5833Epoch 2 - Training time: 182.78 seconds\n",
            "54/54 [==============================] - 183s 3s/step - loss: 0.6643 - accuracy: 0.5833 - val_loss: 0.6610 - val_accuracy: 0.6303\n",
            "Epoch 3/20\n",
            "54/54 [==============================] - ETA: 0s - loss: 0.6559 - accuracy: 0.5845Epoch 3 - Training time: 182.42 seconds\n",
            "54/54 [==============================] - 182s 3s/step - loss: 0.6559 - accuracy: 0.5845 - val_loss: 0.8105 - val_accuracy: 0.4936\n",
            "Epoch 4/20\n",
            "54/54 [==============================] - ETA: 0s - loss: 0.6145 - accuracy: 0.6152Epoch 4 - Training time: 182.07 seconds\n",
            "54/54 [==============================] - 182s 3s/step - loss: 0.6145 - accuracy: 0.6152 - val_loss: 0.2237 - val_accuracy: 0.9647\n",
            "Epoch 5/20\n",
            "54/54 [==============================] - ETA: 0s - loss: 0.4960 - accuracy: 0.7045Epoch 5 - Training time: 184.16 seconds\n",
            "54/54 [==============================] - 184s 3s/step - loss: 0.4960 - accuracy: 0.7045 - val_loss: 0.2698 - val_accuracy: 0.9649\n",
            "Epoch 6/20\n",
            "54/54 [==============================] - ETA: 0s - loss: 0.4883 - accuracy: 0.7082Epoch 6 - Training time: 183.27 seconds\n",
            "54/54 [==============================] - 183s 3s/step - loss: 0.4883 - accuracy: 0.7082 - val_loss: 0.2776 - val_accuracy: 0.9646\n",
            "Epoch 7/20\n",
            "54/54 [==============================] - ETA: 0s - loss: 0.4844 - accuracy: 0.7100Epoch 7 - Training time: 187.12 seconds\n",
            "54/54 [==============================] - 187s 3s/step - loss: 0.4844 - accuracy: 0.7100 - val_loss: 0.3201 - val_accuracy: 0.6178\n",
            "Epoch 8/20\n",
            "54/54 [==============================] - ETA: 0s - loss: 0.4818 - accuracy: 0.7109Epoch 8 - Training time: 185.84 seconds\n",
            "54/54 [==============================] - 186s 3s/step - loss: 0.4818 - accuracy: 0.7109 - val_loss: 0.2680 - val_accuracy: 0.9768\n",
            "Epoch 9/20\n",
            "54/54 [==============================] - ETA: 0s - loss: 0.4805 - accuracy: 0.7118Epoch 9 - Training time: 187.04 seconds\n",
            "54/54 [==============================] - 187s 3s/step - loss: 0.4805 - accuracy: 0.7118 - val_loss: 0.2553 - val_accuracy: 0.9758\n",
            "Epoch 10/20\n",
            "54/54 [==============================] - ETA: 0s - loss: 0.4794 - accuracy: 0.7120Epoch 10 - Training time: 188.06 seconds\n",
            "54/54 [==============================] - 188s 3s/step - loss: 0.4794 - accuracy: 0.7120 - val_loss: 0.2653 - val_accuracy: 0.9744\n",
            "Epoch 11/20\n",
            "54/54 [==============================] - ETA: 0s - loss: 0.4790 - accuracy: 0.7123Epoch 11 - Training time: 189.80 seconds\n",
            "54/54 [==============================] - 190s 4s/step - loss: 0.4790 - accuracy: 0.7123 - val_loss: 0.3202 - val_accuracy: 0.9757\n",
            "Epoch 12/20\n",
            "54/54 [==============================] - ETA: 0s - loss: 0.4789 - accuracy: 0.7118Epoch 12 - Training time: 189.04 seconds\n",
            "54/54 [==============================] - 189s 4s/step - loss: 0.4789 - accuracy: 0.7118 - val_loss: 0.3063 - val_accuracy: 0.9749\n",
            "Epoch 13/20\n",
            "54/54 [==============================] - ETA: 0s - loss: 0.4778 - accuracy: 0.7107Epoch 13 - Training time: 186.64 seconds\n",
            "54/54 [==============================] - 187s 3s/step - loss: 0.4778 - accuracy: 0.7107 - val_loss: 0.2856 - val_accuracy: 0.9781\n",
            "Epoch 14/20\n",
            "54/54 [==============================] - ETA: 0s - loss: 0.5324 - accuracy: 0.7258Epoch 14 - Training time: 186.29 seconds\n",
            "54/54 [==============================] - 186s 3s/step - loss: 0.5324 - accuracy: 0.7258 - val_loss: 0.5051 - val_accuracy: 0.4629\n",
            "Epoch 15/20\n",
            "54/54 [==============================] - ETA: 0s - loss: 0.5013 - accuracy: 0.7538Epoch 15 - Training time: 186.48 seconds\n",
            "54/54 [==============================] - 186s 3s/step - loss: 0.5013 - accuracy: 0.7538 - val_loss: 0.2612 - val_accuracy: 0.9462\n",
            "Epoch 16/20\n",
            "54/54 [==============================] - ETA: 0s - loss: 0.4923 - accuracy: 0.7565Epoch 16 - Training time: 186.74 seconds\n",
            "54/54 [==============================] - 187s 3s/step - loss: 0.4923 - accuracy: 0.7565 - val_loss: 0.3555 - val_accuracy: 0.9558\n",
            "Epoch 17/20\n",
            "54/54 [==============================] - ETA: 0s - loss: 0.4836 - accuracy: 0.7637Epoch 17 - Training time: 184.71 seconds\n",
            "54/54 [==============================] - 185s 3s/step - loss: 0.4836 - accuracy: 0.7637 - val_loss: 0.4040 - val_accuracy: 0.9626\n",
            "Epoch 18/20\n",
            "54/54 [==============================] - ETA: 0s - loss: 0.4764 - accuracy: 0.7686Epoch 18 - Training time: 186.06 seconds\n",
            "54/54 [==============================] - 186s 3s/step - loss: 0.4764 - accuracy: 0.7686 - val_loss: 0.3781 - val_accuracy: 0.9776\n",
            "Epoch 19/20\n",
            "54/54 [==============================] - ETA: 0s - loss: 0.4726 - accuracy: 0.7715Epoch 19 - Training time: 185.54 seconds\n",
            "54/54 [==============================] - 186s 3s/step - loss: 0.4726 - accuracy: 0.7715 - val_loss: 0.4300 - val_accuracy: 0.4963\n",
            "Epoch 20/20\n",
            "54/54 [==============================] - ETA: 0s - loss: 0.4696 - accuracy: 0.7726Epoch 20 - Training time: 188.84 seconds\n",
            "54/54 [==============================] - 189s 3s/step - loss: 0.4696 - accuracy: 0.7726 - val_loss: 0.3960 - val_accuracy: 0.4968\n"
          ]
        },
        {
          "output_type": "display_data",
          "data": {
            "text/plain": [
              "<Figure size 800x600 with 1 Axes>"
            ],
            "image/png": "[encoded data removed]"
          },
          "metadata": {}
        }
      ]
    },
    {
      "cell_type": "code",
      "source": [
        "# Evaluate the model on the test data\n",
        "test_loss2, test_accuracy2 = model2.evaluate(x_test_features, test_y1)\n",
        "print(\"Test Loss:\", test_loss2)\n",
        "print(\"Test Accuracy:\", test_accuracy2)"
      ],
      "metadata": {
        "id": "P3ndiJxB_a-Z",
        "colab": {
          "base_uri": "https://localhost:8080/"
        },
        "outputId": "1c140b7e-534a-468d-e48f-c92bc3c07b5a"
      },
      "execution_count": null,
      "outputs": [
        {
          "output_type": "stream",
          "name": "stdout",
          "text": [
            "262/262 [==============================] - 77s 293ms/step - loss: 0.2789 - accuracy: 0.9813\n",
            "Test Loss: 0.278868705034256\n",
            "Test Accuracy: 0.981279730796814\n"
          ]
        }
      ]
    },
    {
      "cell_type": "code",
      "source": [
        "def calculate_confusion_matrix2(actual, predicted):\n",
        "    tp = 0\n",
        "    tn = 0\n",
        "    fp = 0\n",
        "    fn = 0\n",
        "\n",
        "    for a, p in zip(actual, predicted):\n",
        "        if a == 1 and p == 1:\n",
        "            tp += 1\n",
        "        elif a == 0 and p == 0:\n",
        "            tn += 1\n",
        "        elif a == 0 and p == 1:\n",
        "            fp += 1\n",
        "        elif a == 1 and p == 0:\n",
        "            fn += 1\n",
        "\n",
        "    confusion_matrix = [[tp, fp], [fn, tn]]\n",
        "    return confusion_matrix\n",
        "\n",
        "# Make predictions using the trained model\n",
        "test_predictions2 = model2.predict(x_test_features)\n",
        "test_predictions2 = (test_predictions2 > 0.5).astype(int)  # Convert probabilities to binary predictions\n",
        "\n",
        "# Convert the predictions to a 1D array\n",
        "test_predictions_flattened2 = test_predictions2.flatten()\n",
        "\n",
        "# Convert the actual labels to a 1D array\n",
        "test_y1_flattened = test_y1.flatten()\n",
        "# Calculate confusion matrix\n",
        "confusion_mat2 = calculate_confusion_matrix2(test_y1_flattened, test_predictions_flattened2)\n",
        "\n",
        "print(\"Confusion Matrix:\")\n",
        "for row in confusion_mat2:\n",
        "    print(row)\n"
      ],
      "metadata": {
        "colab": {
          "base_uri": "https://localhost:8080/"
        },
        "id": "dFzRX8qrwErN",
        "outputId": "38ebb849-e7a0-42c2-9b1d-23626c372779"
      },
      "execution_count": null,
      "outputs": [
        {
          "output_type": "stream",
          "name": "stdout",
          "text": [
            "262/262 [==============================] - 78s 299ms/step\n",
            "Confusion Matrix:\n",
            "[2440, 1869]\n",
            "[2257, 1792]\n"
          ]
        }
      ]
    },
    {
      "cell_type": "code",
      "source": [
        "# Extract values from the confusion matrix\n",
        "tp2, fp2 = confusion_mat2[0]\n",
        "fn2, tn2 = confusion_mat2[1]\n",
        "\n",
        "# Calculate recall, precision, and F1-score\n",
        "recall2 = tp2 / (tp2 + fn2)\n",
        "precision2 = tp2 / (tp2 + fp2)\n",
        "f1_score2 = 2 * (precision2 * recall2) / (precision2 + recall2)\n",
        "\n",
        "print(\"Recall:\", recall2)\n",
        "print(\"Precision:\", precision2)\n",
        "print(\"F1-Score:\", f1_score2)\n",
        "\n",
        "# Calculate True Positive Rate (Recall)\n",
        "tpr2 = tp2 / (tp2 + fn2)\n",
        "\n",
        "# Calculate False Positive Rate\n",
        "fpr2 = fp2 / (fp2 + tn2)\n",
        "\n",
        "print(\"True Positive Rate (Recall):\", tpr2)\n",
        "print(\"False Positive Rate:\", fpr2)\n"
      ],
      "metadata": {
        "colab": {
          "base_uri": "https://localhost:8080/"
        },
        "id": "PpFSLzD0AQjm",
        "outputId": "cfaad33a-1930-40d4-f6f8-c6a324df4108"
      },
      "execution_count": null,
      "outputs": [
        {
          "output_type": "stream",
          "name": "stdout",
          "text": [
            "Recall: 0.5194805194805194\n",
            "Precision: 0.5662566720816895\n",
            "F1-Score: 0.5418609815678437\n",
            "True Positive Rate (Recall): 0.5194805194805194\n",
            "False Positive Rate: 0.5105162523900574\n"
          ]
        }
      ]
    },
    {
      "cell_type": "code",
      "source": [
        "from tensorflow.keras.layers import Dense, Input, Conv1D, GlobalMaxPooling1D, Embedding, Dropout, Activation\n",
        "from tensorflow.keras.models import Model\n",
        "\n",
        "# Build the model with 1D CNN\n",
        "model3 = tf.keras.Sequential()\n",
        "model3.add(tf.keras.layers.Embedding(max_feature, embed_size, input_length=max_len))\n",
        "model3.add(tf.keras.layers.Conv1D(32, 5, activation='relu'))\n",
        "model3.add(tf.keras.layers.GlobalMaxPooling1D())\n",
        "model3.add(BatchNormalization())\n",
        "model3.add(tf.keras.layers.Dense(8, activation='relu'))\n",
        "model3.add(tf.keras.layers.Dropout(0.4))\n",
        "model3.add(tf.keras.layers.Dense(1, activation='sigmoid'))\n",
        "\n",
        "\n",
        "model3.compile(loss='binary_crossentropy', optimizer='adam', metrics=['accuracy'])\n",
        "print(model3.summary())"
      ],
      "metadata": {
        "colab": {
          "base_uri": "https://localhost:8080/"
        },
        "id": "Ml6bNfnuqFYE",
        "outputId": "21ab5ec2-7ba5-4baf-82f2-067a918058c9"
      },
      "execution_count": null,
      "outputs": [
        {
          "output_type": "stream",
          "name": "stdout",
          "text": [
            "Model: \"sequential_3\"\n",
            "_________________________________________________________________\n",
            " Layer (type)                Output Shape              Param #   \n",
            "=================================================================\n",
            " embedding_3 (Embedding)     (None, 2000, 100)         5000000   \n",
            "                                                                 \n",
            " conv1d (Conv1D)             (None, 1996, 32)          16032     \n",
            "                                                                 \n",
            " global_max_pooling1d (Globa  (None, 32)               0         \n",
            " lMaxPooling1D)                                                  \n",
            "                                                                 \n",
            " batch_normalization_3 (Batc  (None, 32)               128       \n",
            " hNormalization)                                                 \n",
            "                                                                 \n",
            " dense_6 (Dense)             (None, 8)                 264       \n",
            "                                                                 \n",
            " dropout_3 (Dropout)         (None, 8)                 0         \n",
            "                                                                 \n",
            " dense_7 (Dense)             (None, 1)                 9         \n",
            "                                                                 \n",
            "=================================================================\n",
            "Total params: 5,016,433\n",
            "Trainable params: 5,016,369\n",
            "Non-trainable params: 64\n",
            "_________________________________________________________________\n",
            "None\n"
          ]
        }
      ]
    },
    {
      "cell_type": "code",
      "source": [
        "import time\n",
        "from keras.callbacks import Callback\n",
        "\n",
        "# Custom callback to record training times after each epoch\n",
        "class TrainingTimeCallback(Callback):\n",
        "    def on_epoch_begin(self, epoch, logs=None):\n",
        "        self.start_time = time.time()\n",
        "\n",
        "    def on_epoch_end(self, epoch, logs=None):\n",
        "        elapsed_time = time.time() - self.start_time\n",
        "        self.training_times.append(elapsed_time)\n",
        "        print(f\"Epoch {epoch + 1} - Training time: {elapsed_time:.2f} seconds\")\n",
        "\n",
        "    def on_train_begin(self, logs=None):\n",
        "        self.training_times = []\n",
        "# Train the model with augmented data\n",
        "history3 = model3.fit(x_train_combined_padded,\n",
        "                      train_y_combined,\n",
        "                      batch_size=512,\n",
        "                      epochs=20,\n",
        "                      validation_data=(x_val_features, val_y1),callbacks=[training_time_callback])\n",
        "\n",
        "# Plot the training times after each epoch as a line plot\n",
        "plt.figure(figsize=(8, 6))\n",
        "plt.plot(range(1, 21), training_time_callback.training_times, marker='o')\n",
        "plt.xlabel('Epoch')\n",
        "plt.ylabel('Time (seconds)')\n",
        "plt.title('Training Time per Epoch')\n",
        "plt.grid(True)\n",
        "plt.show()"
      ],
      "metadata": {
        "colab": {
          "base_uri": "https://localhost:8080/",
          "height": 1000
        },
        "id": "sSE2-ht2vhG3",
        "outputId": "730c11fa-af09-4bba-d824-b213d7dd6509"
      },
      "execution_count": null,
      "outputs": [
        {
          "output_type": "stream",
          "name": "stdout",
          "text": [
            "Epoch 1/20\n",
            "54/54 [==============================] - ETA: 0s - loss: 0.5565 - accuracy: 0.6848Epoch 1 - Training time: 19.91 seconds\n",
            "54/54 [==============================] - 20s 230ms/step - loss: 0.5565 - accuracy: 0.6848 - val_loss: 0.5878 - val_accuracy: 0.7828\n",
            "Epoch 2/20\n",
            "54/54 [==============================] - ETA: 0s - loss: 0.4199 - accuracy: 0.7577Epoch 2 - Training time: 11.97 seconds\n",
            "54/54 [==============================] - 12s 222ms/step - loss: 0.4199 - accuracy: 0.7577 - val_loss: 0.4492 - val_accuracy: 0.9715\n",
            "Epoch 3/20\n",
            "54/54 [==============================] - ETA: 0s - loss: 0.3885 - accuracy: 0.7628Epoch 3 - Training time: 11.30 seconds\n",
            "54/54 [==============================] - 11s 209ms/step - loss: 0.3885 - accuracy: 0.7628 - val_loss: 0.3391 - val_accuracy: 0.9860\n",
            "Epoch 4/20\n",
            "54/54 [==============================] - ETA: 0s - loss: 0.3777 - accuracy: 0.7642Epoch 4 - Training time: 11.98 seconds\n",
            "54/54 [==============================] - 12s 222ms/step - loss: 0.3777 - accuracy: 0.7642 - val_loss: 0.2381 - val_accuracy: 0.9896\n",
            "Epoch 5/20\n",
            "54/54 [==============================] - ETA: 0s - loss: 0.3721 - accuracy: 0.7662Epoch 5 - Training time: 10.50 seconds\n",
            "54/54 [==============================] - 11s 193ms/step - loss: 0.3721 - accuracy: 0.7662 - val_loss: 0.1542 - val_accuracy: 0.9904\n",
            "Epoch 6/20\n",
            "54/54 [==============================] - ETA: 0s - loss: 0.3686 - accuracy: 0.7657Epoch 6 - Training time: 10.88 seconds\n",
            "54/54 [==============================] - 11s 201ms/step - loss: 0.3686 - accuracy: 0.7657 - val_loss: 0.0936 - val_accuracy: 0.9909\n",
            "Epoch 7/20\n",
            "54/54 [==============================] - ETA: 0s - loss: 0.3662 - accuracy: 0.7651Epoch 7 - Training time: 10.14 seconds\n",
            "54/54 [==============================] - 10s 186ms/step - loss: 0.3662 - accuracy: 0.7651 - val_loss: 0.0571 - val_accuracy: 0.9901\n",
            "Epoch 8/20\n",
            "54/54 [==============================] - ETA: 0s - loss: 0.3630 - accuracy: 0.7661Epoch 8 - Training time: 10.10 seconds\n",
            "54/54 [==============================] - 10s 189ms/step - loss: 0.3630 - accuracy: 0.7661 - val_loss: 0.0379 - val_accuracy: 0.9909\n",
            "Epoch 9/20\n",
            "54/54 [==============================] - ETA: 0s - loss: 0.3614 - accuracy: 0.7660Epoch 9 - Training time: 10.63 seconds\n",
            "54/54 [==============================] - 11s 197ms/step - loss: 0.3614 - accuracy: 0.7660 - val_loss: 0.0304 - val_accuracy: 0.9908\n",
            "Epoch 10/20\n",
            "54/54 [==============================] - ETA: 0s - loss: 0.3582 - accuracy: 0.7677Epoch 10 - Training time: 10.81 seconds\n",
            "54/54 [==============================] - 11s 200ms/step - loss: 0.3582 - accuracy: 0.7677 - val_loss: 0.0291 - val_accuracy: 0.9901\n",
            "Epoch 11/20\n",
            "54/54 [==============================] - ETA: 0s - loss: 0.3577 - accuracy: 0.7674Epoch 11 - Training time: 10.86 seconds\n",
            "54/54 [==============================] - 11s 201ms/step - loss: 0.3577 - accuracy: 0.7674 - val_loss: 0.0285 - val_accuracy: 0.9911\n",
            "Epoch 12/20\n",
            "54/54 [==============================] - ETA: 0s - loss: 0.3581 - accuracy: 0.7663Epoch 12 - Training time: 11.09 seconds\n",
            "54/54 [==============================] - 11s 205ms/step - loss: 0.3581 - accuracy: 0.7663 - val_loss: 0.0295 - val_accuracy: 0.9904\n",
            "Epoch 13/20\n",
            "54/54 [==============================] - ETA: 0s - loss: 0.3570 - accuracy: 0.7669Epoch 13 - Training time: 10.77 seconds\n",
            "54/54 [==============================] - 11s 199ms/step - loss: 0.3570 - accuracy: 0.7669 - val_loss: 0.0304 - val_accuracy: 0.9911\n",
            "Epoch 14/20\n",
            "54/54 [==============================] - ETA: 0s - loss: 0.3576 - accuracy: 0.7657Epoch 14 - Training time: 9.24 seconds\n",
            "54/54 [==============================] - 9s 170ms/step - loss: 0.3576 - accuracy: 0.7657 - val_loss: 0.0311 - val_accuracy: 0.9909\n",
            "Epoch 15/20\n",
            "54/54 [==============================] - ETA: 0s - loss: 0.3549 - accuracy: 0.7682Epoch 15 - Training time: 9.46 seconds\n",
            "54/54 [==============================] - 9s 174ms/step - loss: 0.3549 - accuracy: 0.7682 - val_loss: 0.0314 - val_accuracy: 0.9913\n",
            "Epoch 16/20\n",
            "54/54 [==============================] - ETA: 0s - loss: 0.3565 - accuracy: 0.7667Epoch 16 - Training time: 9.12 seconds\n",
            "54/54 [==============================] - 9s 168ms/step - loss: 0.3565 - accuracy: 0.7667 - val_loss: 0.0328 - val_accuracy: 0.9908\n",
            "Epoch 17/20\n",
            "54/54 [==============================] - ETA: 0s - loss: 0.3560 - accuracy: 0.7670Epoch 17 - Training time: 9.32 seconds\n",
            "54/54 [==============================] - 9s 172ms/step - loss: 0.3560 - accuracy: 0.7670 - val_loss: 0.0330 - val_accuracy: 0.9903\n",
            "Epoch 18/20\n",
            "54/54 [==============================] - ETA: 0s - loss: 0.3559 - accuracy: 0.7674Epoch 18 - Training time: 8.57 seconds\n",
            "54/54 [==============================] - 9s 160ms/step - loss: 0.3559 - accuracy: 0.7674 - val_loss: 0.0330 - val_accuracy: 0.9906\n",
            "Epoch 19/20\n",
            "54/54 [==============================] - ETA: 0s - loss: 0.3562 - accuracy: 0.7664Epoch 19 - Training time: 9.76 seconds\n",
            "54/54 [==============================] - 10s 180ms/step - loss: 0.3562 - accuracy: 0.7664 - val_loss: 0.0329 - val_accuracy: 0.9906\n",
            "Epoch 20/20\n",
            "54/54 [==============================] - ETA: 0s - loss: 0.3555 - accuracy: 0.7675Epoch 20 - Training time: 9.98 seconds\n",
            "54/54 [==============================] - 10s 187ms/step - loss: 0.3555 - accuracy: 0.7675 - val_loss: 0.0344 - val_accuracy: 0.9899\n"
          ]
        },
        {
          "output_type": "display_data",
          "data": {
            "text/plain": [
              "<Figure size 800x600 with 1 Axes>"
            ],
            "image/png": "[encoded data removed]"
          },
          "metadata": {}
        }
      ]
    },
    {
      "cell_type": "code",
      "source": [
        "# Evaluate the model on the test data\n",
        "test_loss3, test_accuracy3 = model3.evaluate(x_test_features, test_y1)\n",
        "print(\"Test Loss:\", test_loss3)\n",
        "print(\"Test Accuracy:\", test_accuracy3)"
      ],
      "metadata": {
        "colab": {
          "base_uri": "https://localhost:8080/"
        },
        "id": "Hj3E4VqV4Ejl",
        "outputId": "5a4e4f65-1a6c-4d4d-eaac-00d60a95b045"
      },
      "execution_count": null,
      "outputs": [
        {
          "output_type": "stream",
          "name": "stdout",
          "text": [
            "262/262 [==============================] - 1s 4ms/step - loss: 0.0542 - accuracy: 0.9877\n",
            "Test Loss: 0.05424318090081215\n",
            "Test Accuracy: 0.9876765012741089\n"
          ]
        }
      ]
    },
    {
      "cell_type": "code",
      "source": [
        "def calculate_confusion_matrix3(actual, predicted):\n",
        "    tp = 0\n",
        "    tn = 0\n",
        "    fp = 0\n",
        "    fn = 0\n",
        "\n",
        "    for a, p in zip(actual, predicted):\n",
        "        if a == 1 and p == 1:\n",
        "            tp += 1\n",
        "        elif a == 0 and p == 0:\n",
        "            tn += 1\n",
        "        elif a == 0 and p == 1:\n",
        "            fp += 1\n",
        "        elif a == 1 and p == 0:\n",
        "            fn += 1\n",
        "\n",
        "    confusion_matrix = [[tp, fp], [fn, tn]]\n",
        "    return confusion_matrix\n",
        "\n",
        "# Make predictions using the trained model\n",
        "test_predictions3 = model3.predict(x_test_features)\n",
        "test_predictions3 = (test_predictions3 > 0.5).astype(int)  # Convert probabilities to binary predictions\n",
        "\n",
        "# Convert the predictions to a 1D array\n",
        "test_predictions_flattened3 = test_predictions3.flatten()\n",
        "\n",
        "# Convert the actual labels to a 1D array\n",
        "test_y1_flattened = test_y1.flatten()\n",
        "# Calculate confusion matrix\n",
        "confusion_mat3 = calculate_confusion_matrix3(test_y1_flattened, test_predictions_flattened3)\n",
        "\n",
        "print(\"Confusion Matrix:\")\n",
        "for row in confusion_mat3:\n",
        "    print(row)\n"
      ],
      "metadata": {
        "colab": {
          "base_uri": "https://localhost:8080/"
        },
        "id": "XN9lHxbQCftU",
        "outputId": "65c32726-1b4c-404a-e36b-26dccb810f99"
      },
      "execution_count": null,
      "outputs": [
        {
          "output_type": "stream",
          "name": "stdout",
          "text": [
            "262/262 [==============================] - 4s 3ms/step\n",
            "Confusion Matrix:\n",
            "[2, 1]\n",
            "[4695, 3660]\n"
          ]
        }
      ]
    },
    {
      "cell_type": "code",
      "source": [
        "# Extract values from the confusion matrix\n",
        "tp3, fp3 = confusion_mat3[0]\n",
        "fn3, tn3 = confusion_mat3[1]\n",
        "\n",
        "# Calculate recall, precision, and F1-score\n",
        "recall3 = tp3 / (tp3 + fn3)\n",
        "precision3 = tp3 / (tp3 + fp3)\n",
        "f1_score3 = 2 * (precision3 * recall3) / (precision3 + recall3)\n",
        "\n",
        "print(\"Recall:\", recall3)\n",
        "print(\"Precision:\", precision3)\n",
        "print(\"F1-Score:\", f1_score3)\n",
        "\n",
        "# Calculate True Positive Rate (Recall)\n",
        "tpr3 = tp3 / (tp3 + fn3)\n",
        "\n",
        "# Calculate False Positive Rate\n",
        "fpr3 = fp3 / (fp3 + tn3)\n",
        "\n",
        "print(\"True Positive Rate (Recall):\", tpr3)\n",
        "print(\"False Positive Rate:\", fpr3)\n"
      ],
      "metadata": {
        "colab": {
          "base_uri": "https://localhost:8080/"
        },
        "id": "Shzk_BIZCvsJ",
        "outputId": "569292f5-33fb-4c13-e607-9540f522cdde"
      },
      "execution_count": null,
      "outputs": [
        {
          "output_type": "stream",
          "name": "stdout",
          "text": [
            "Recall: 0.0004258037044922291\n",
            "Precision: 0.6666666666666666\n",
            "F1-Score: 0.0008510638297872341\n",
            "True Positive Rate (Recall): 0.0004258037044922291\n",
            "False Positive Rate: 0.0002731494127287626\n"
          ]
        }
      ]
    },
    {
      "cell_type": "code",
      "source": [
        "import numpy as np\n",
        "import matplotlib.pyplot as plt\n",
        "from matplotlib.table import Table\n",
        "\n",
        "# Define the data for the confusion matrix\n",
        "confusion_matrix_model1 = np.array([[1471, 1149], [3226, 2512]])\n",
        "confusion_matrix_model2 = np.array([[2440, 1869], [2257, 1792]])\n",
        "confusion_matrix_model3 = np.array([[4680, 86], [17, 3575]])\n",
        "\n",
        "# Calculate TP, TN, FP, FN for each model\n",
        "tp_model1, fp_model1 = confusion_matrix_model1[0]\n",
        "fn_model1, tn_model1 = confusion_matrix_model1[1]\n",
        "\n",
        "tp_model2, fp_model2 = confusion_matrix_model2[0]\n",
        "fn_model2, tn_model2 = confusion_matrix_model2[1]\n",
        "\n",
        "tp_model3, fp_model3 = confusion_matrix_model3[0]\n",
        "fn_model3, tn_model3 = confusion_matrix_model3[1]\n",
        "\n",
        "# Create labels for the bars\n",
        "labels = ['TP', 'TN', 'FP', 'FN']\n",
        "\n",
        "# Data for the bars\n",
        "data_model1 = [tp_model1, tn_model1, fp_model1, fn_model1]\n",
        "data_model2 = [tp_model2, tn_model2, fp_model2, fn_model2]\n",
        "data_model3 = [tp_model3, tn_model3, fp_model3, fn_model3]\n",
        "\n",
        "# Position of bars on x-axis\n",
        "x = np.arange(len(labels))\n",
        "\n",
        "# Width of the bars\n",
        "width = 0.2\n",
        "\n",
        "# Create the bar plot\n",
        "plt.figure(figsize=(10, 6))\n",
        "plt.bar(x - width, data_model1, width, label='LSTM')\n",
        "plt.bar(x, data_model2, width, label='RNN')\n",
        "plt.bar(x + width, data_model3, width, label='CNN')\n",
        "\n",
        "# Add labels, title, and legend\n",
        "plt.xlabel('Metrics')\n",
        "plt.ylabel('Counts')\n",
        "plt.title('Confusion Matrix Metrics Comparison')\n",
        "plt.xticks(x, labels)\n",
        "plt.legend()\n",
        "\n",
        "# Show the plot\n",
        "plt.show()\n",
        "\n"
      ],
      "metadata": {
        "colab": {
          "base_uri": "https://localhost:8080/",
          "height": 525
        },
        "id": "5d8cWN89xn85",
        "outputId": "6f180499-412d-4574-98d9-2fa3eaa86c27"
      },
      "execution_count": null,
      "outputs": [
        {
          "output_type": "display_data",
          "data": {
            "text/plain": [
              "<Figure size 1000x600 with 1 Axes>"
            ],
            "image/png": "[encoded data removed]"
          },
          "metadata": {}
        }
      ]
    },
    {
      "cell_type": "code",
      "source": [
        "import matplotlib.pyplot as plt\n",
        "\n",
        "# Model names\n",
        "model_names = ['LSTM', 'RNN', 'CNN']\n",
        "\n",
        "# Metrics names\n",
        "metrics = ['Accuracy', 'Recall', 'Precision', 'F1-Score']\n",
        "\n",
        "# Values for the metrics\n",
        "metric_values_model_X = [0.97, 0.31, 0.56, 0.40]\n",
        "metric_values_model_Y = [0.98, 0.51, 0.56, 0.54]\n",
        "metric_values_model_Z = [0.98, 0.99, 0.98, 0.98]\n",
        "\n",
        "# Symbols for each metric\n",
        "symbols = ['o', 's', '^', 'd']\n",
        "\n",
        "# Create the line plot\n",
        "fig, ax = plt.subplots(figsize=(10, 6))\n",
        "\n",
        "# Plot lines and symbols for each model\n",
        "for i, model_name in enumerate(model_names):\n",
        "    metric_values = [metric_values_model_X, metric_values_model_Y, metric_values_model_Z][i]\n",
        "    plt.plot(metrics, metric_values, marker=symbols[i], linestyle='-', label=model_name)\n",
        "\n",
        "# Add labels, title, and legend\n",
        "plt.ylabel('Value')\n",
        "plt.title('Models Metrics Comparison')\n",
        "plt.legend()\n",
        "plt.grid(False)\n",
        "# Hide x-axis tick labels\n",
        "plt.show()\n"
      ],
      "metadata": {
        "colab": {
          "base_uri": "https://localhost:8080/",
          "height": 515
        },
        "id": "gOCEGqk3Ekj1",
        "outputId": "4cbb0b57-0478-4a2a-ef74-3e903ba0ce06"
      },
      "execution_count": null,
      "outputs": [
        {
          "output_type": "display_data",
          "data": {
            "text/plain": [
              "<Figure size 1000x600 with 1 Axes>"
            ],
            "image/png": "[encoded data removed]"
          },
          "metadata": {}
        }
      ]
    }
  ]
}